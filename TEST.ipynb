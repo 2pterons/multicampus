{
  "nbformat": 4,
  "nbformat_minor": 0,
  "metadata": {
    "colab": {
      "name": "TEST.ipynb",
      "provenance": [],
      "collapsed_sections": [],
      "mount_file_id": "1z3sWooOtBpDOPAyq4gHWfcbZ5lYhxvec",
      "authorship_tag": "ABX9TyPzexvKWoY9c6T1AMQrjnR4",
      "include_colab_link": true
    },
    "kernelspec": {
      "name": "python3",
      "display_name": "Python 3"
    },
    "language_info": {
      "name": "python"
    }
  },
  "cells": [
    {
      "cell_type": "markdown",
      "metadata": {
        "id": "view-in-github",
        "colab_type": "text"
      },
      "source": [
        "<a href=\"https://colab.research.google.com/github/2pterons/multicampus/blob/main/TEST.ipynb\" target=\"_parent\"><img src=\"https://colab.research.google.com/assets/colab-badge.svg\" alt=\"Open In Colab\"/></a>"
      ]
    },
    {
      "cell_type": "code",
      "metadata": {
        "colab": {
          "base_uri": "https://localhost:8080/",
          "height": 220
        },
        "id": "P8swc6P9nh2X",
        "outputId": "ccb2f020-e84e-4891-eacd-8c81eaf367bc"
      },
      "source": [
        "import pandas as pd\n",
        "import numpy as np\n",
        "from tqdm import tqdm\n",
        "\n",
        "%cd /content/drive/MyDrive/Colab Notebooks/multicampus/Idiom Classifier/data/\n",
        "df = pd.read_csv('TroFi_example.csv')\n",
        "df.head()"
      ],
      "execution_count": null,
      "outputs": [
        {
          "output_type": "stream",
          "name": "stdout",
          "text": [
            "/content/drive/MyDrive/Colab Notebooks/multicampus/Idiom Classifier/data\n"
          ]
        },
        {
          "output_type": "execute_result",
          "data": {
            "text/html": [
              "<div>\n",
              "<style scoped>\n",
              "    .dataframe tbody tr th:only-of-type {\n",
              "        vertical-align: middle;\n",
              "    }\n",
              "\n",
              "    .dataframe tbody tr th {\n",
              "        vertical-align: top;\n",
              "    }\n",
              "\n",
              "    .dataframe thead th {\n",
              "        text-align: right;\n",
              "    }\n",
              "</style>\n",
              "<table border=\"1\" class=\"dataframe\">\n",
              "  <thead>\n",
              "    <tr style=\"text-align: right;\">\n",
              "      <th></th>\n",
              "      <th>***absorb***</th>\n",
              "      <th>Unnamed: 1</th>\n",
              "      <th>Unnamed: 2</th>\n",
              "    </tr>\n",
              "  </thead>\n",
              "  <tbody>\n",
              "    <tr>\n",
              "      <th>0</th>\n",
              "      <td>*nonliteral cluster*</td>\n",
              "      <td>NaN</td>\n",
              "      <td>NaN</td>\n",
              "    </tr>\n",
              "    <tr>\n",
              "      <th>1</th>\n",
              "      <td>wsj02:2251</td>\n",
              "      <td>U</td>\n",
              "      <td>Another option will be to try to curb the grow...</td>\n",
              "    </tr>\n",
              "    <tr>\n",
              "      <th>2</th>\n",
              "      <td>wsj03:2839</td>\n",
              "      <td>N</td>\n",
              "      <td>But in the short-term it will absorb a lot of ...</td>\n",
              "    </tr>\n",
              "    <tr>\n",
              "      <th>3</th>\n",
              "      <td>wsj03:9412</td>\n",
              "      <td>U</td>\n",
              "      <td>That merger , valued at about $ 1 billion , he...</td>\n",
              "    </tr>\n",
              "    <tr>\n",
              "      <th>4</th>\n",
              "      <td>wsj04:10022</td>\n",
              "      <td>N</td>\n",
              "      <td>Shocks from one-time changes in the terms of t...</td>\n",
              "    </tr>\n",
              "  </tbody>\n",
              "</table>\n",
              "</div>"
            ],
            "text/plain": [
              "           ***absorb***  ...                                         Unnamed: 2\n",
              "0  *nonliteral cluster*  ...                                                NaN\n",
              "1            wsj02:2251  ...  Another option will be to try to curb the grow...\n",
              "2            wsj03:2839  ...  But in the short-term it will absorb a lot of ...\n",
              "3            wsj03:9412  ...  That merger , valued at about $ 1 billion , he...\n",
              "4           wsj04:10022  ...  Shocks from one-time changes in the terms of t...\n",
              "\n",
              "[5 rows x 3 columns]"
            ]
          },
          "metadata": {},
          "execution_count": 4
        }
      ]
    },
    {
      "cell_type": "code",
      "metadata": {
        "id": "x6SRn1cbpg_u"
      },
      "source": [
        "df.columns = [\"index\", \"Label\", \"Text\"]"
      ],
      "execution_count": null,
      "outputs": []
    },
    {
      "cell_type": "code",
      "metadata": {
        "colab": {
          "base_uri": "https://localhost:8080/"
        },
        "id": "6bxbm6lHpurf",
        "outputId": "e196d13f-43e9-4c73-d2ad-ff1a0a39e78f"
      },
      "source": [
        "df.isnull().sum()"
      ],
      "execution_count": null,
      "outputs": [
        {
          "output_type": "execute_result",
          "data": {
            "text/plain": [
              "index    149\n",
              "Label    348\n",
              "Text     348\n",
              "dtype: int64"
            ]
          },
          "metadata": {},
          "execution_count": 6
        }
      ]
    },
    {
      "cell_type": "code",
      "metadata": {
        "id": "We__zJv_pyOX"
      },
      "source": [
        "# NaN이 있는 행을 지워도 되는지 확인하는 작업\n",
        "df[df['Text'].isnull()][300:]"
      ],
      "execution_count": null,
      "outputs": []
    },
    {
      "cell_type": "code",
      "metadata": {
        "id": "cRDPgqDGp7Ef"
      },
      "source": [
        "# NaN이 있는 행 모두 제거\n",
        "df.dropna(inplace=True)"
      ],
      "execution_count": null,
      "outputs": []
    },
    {
      "cell_type": "code",
      "metadata": {
        "id": "mIAk62gLqDKb"
      },
      "source": [
        "df_copy = df.copy()"
      ],
      "execution_count": null,
      "outputs": []
    },
    {
      "cell_type": "code",
      "metadata": {
        "id": "sJQzY8h2qE63"
      },
      "source": [
        "df_copy.drop([\"index\"], axis=1, inplace=True)"
      ],
      "execution_count": null,
      "outputs": []
    },
    {
      "cell_type": "code",
      "metadata": {
        "colab": {
          "base_uri": "https://localhost:8080/"
        },
        "id": "o5YGblLrqMof",
        "outputId": "330ff9e5-82e0-41ea-a974-4a7b7b574fc9"
      },
      "source": [
        "\"\"\"\n",
        "U: Unannotated\n",
        "N: Non-literal\n",
        "L:Literal\n",
        "\"\"\"\n",
        "df_copy['Label'].value_counts()"
      ],
      "execution_count": null,
      "outputs": [
        {
          "output_type": "execute_result",
          "data": {
            "text/plain": [
              "U    2699\n",
              "N    2145\n",
              "L    1592\n",
              "Name: Label, dtype: int64"
            ]
          },
          "metadata": {},
          "execution_count": 12
        }
      ]
    },
    {
      "cell_type": "code",
      "metadata": {
        "colab": {
          "base_uri": "https://localhost:8080/",
          "height": 202
        },
        "id": "WDf_jIB9qrX2",
        "outputId": "1f2228c4-0a4a-4246-c7b8-22ed6a23b8d9"
      },
      "source": [
        "df_copy.head()"
      ],
      "execution_count": null,
      "outputs": [
        {
          "output_type": "execute_result",
          "data": {
            "text/html": [
              "<div>\n",
              "<style scoped>\n",
              "    .dataframe tbody tr th:only-of-type {\n",
              "        vertical-align: middle;\n",
              "    }\n",
              "\n",
              "    .dataframe tbody tr th {\n",
              "        vertical-align: top;\n",
              "    }\n",
              "\n",
              "    .dataframe thead th {\n",
              "        text-align: right;\n",
              "    }\n",
              "</style>\n",
              "<table border=\"1\" class=\"dataframe\">\n",
              "  <thead>\n",
              "    <tr style=\"text-align: right;\">\n",
              "      <th></th>\n",
              "      <th>Label</th>\n",
              "      <th>Text</th>\n",
              "    </tr>\n",
              "  </thead>\n",
              "  <tbody>\n",
              "    <tr>\n",
              "      <th>1</th>\n",
              "      <td>U</td>\n",
              "      <td>Another option will be to try to curb the grow...</td>\n",
              "    </tr>\n",
              "    <tr>\n",
              "      <th>2</th>\n",
              "      <td>N</td>\n",
              "      <td>But in the short-term it will absorb a lot of ...</td>\n",
              "    </tr>\n",
              "    <tr>\n",
              "      <th>3</th>\n",
              "      <td>U</td>\n",
              "      <td>That merger , valued at about $ 1 billion , he...</td>\n",
              "    </tr>\n",
              "    <tr>\n",
              "      <th>4</th>\n",
              "      <td>N</td>\n",
              "      <td>Shocks from one-time changes in the terms of t...</td>\n",
              "    </tr>\n",
              "    <tr>\n",
              "      <th>5</th>\n",
              "      <td>U</td>\n",
              "      <td>R.J. Reynolds Tobacco Co. has been a rich , fa...</td>\n",
              "    </tr>\n",
              "  </tbody>\n",
              "</table>\n",
              "</div>"
            ],
            "text/plain": [
              "  Label                                               Text\n",
              "1     U  Another option will be to try to curb the grow...\n",
              "2     N  But in the short-term it will absorb a lot of ...\n",
              "3     U  That merger , valued at about $ 1 billion , he...\n",
              "4     N  Shocks from one-time changes in the terms of t...\n",
              "5     U  R.J. Reynolds Tobacco Co. has been a rich , fa..."
            ]
          },
          "metadata": {},
          "execution_count": 13
        }
      ]
    },
    {
      "cell_type": "code",
      "metadata": {
        "id": "eT8cFyeeqtXw"
      },
      "source": [
        "### 전처리\n",
        "# 1. Nan값 처리 어떻게 할 것인지\n",
        "# 2. Label이 U인 행 제거\n",
        "# 3. 간단한 특수문자 제거"
      ],
      "execution_count": null,
      "outputs": []
    },
    {
      "cell_type": "code",
      "metadata": {
        "id": "Oh5LWIIEq19D"
      },
      "source": [
        "df_copy.reset_index(inplace=True, drop=True)"
      ],
      "execution_count": null,
      "outputs": []
    },
    {
      "cell_type": "code",
      "metadata": {
        "colab": {
          "base_uri": "https://localhost:8080/"
        },
        "id": "UwcJpce9rWOR",
        "outputId": "d75336e1-a4db-4889-f3d5-d69ba3deb93c"
      },
      "source": [
        "# 논문에 있는 예시 문장이 들어있는지 체크\n",
        "## N-pos / L-neg / U-제거\n",
        "for i in range(len(df_copy['Text'])):\n",
        "  if 'Ever since' in df_copy['Text'][i]:\n",
        "    print(df_copy['Text'][i])\n",
        "    print(i)\n",
        "    print(df_copy['Label'][i])"
      ],
      "execution_count": null,
      "outputs": [
        {
          "output_type": "stream",
          "name": "stdout",
          "text": [
            "Ever since , Banner has been besieged by hundreds of thrill-seeking callers ./.\n",
            "417\n",
            "N\n",
            "Ever since your scoop ran on the wire , the stock market has been flooded with buy orders ./.\n",
            "2492\n",
            "U\n",
            "Ever since President Reagan in February 1986 called for U.S. development of an `` Orient Express , '' a futuristic aircraft that would fly from New York to Tokyo in two hours , MITI 's aerospace mavens have been itching to get Japan into the action ./.\n",
            "2774\n",
            "L\n"
          ]
        }
      ]
    },
    {
      "cell_type": "code",
      "metadata": {
        "id": "ndOw2qOArXW4"
      },
      "source": [
        "# Label이 U인 행 제거\n",
        "idx_label_U = df_copy[df_copy['Label']=='U'].index\n",
        "new_df = df_copy.drop(idx_label_U)"
      ],
      "execution_count": null,
      "outputs": []
    },
    {
      "cell_type": "code",
      "metadata": {
        "colab": {
          "base_uri": "https://localhost:8080/",
          "height": 202
        },
        "id": "__Wy_1FPr9kO",
        "outputId": "5ebe4579-5a29-4734-f542-0c7d3204ae3a"
      },
      "source": [
        "new_df.head()"
      ],
      "execution_count": null,
      "outputs": [
        {
          "output_type": "execute_result",
          "data": {
            "text/html": [
              "<div>\n",
              "<style scoped>\n",
              "    .dataframe tbody tr th:only-of-type {\n",
              "        vertical-align: middle;\n",
              "    }\n",
              "\n",
              "    .dataframe tbody tr th {\n",
              "        vertical-align: top;\n",
              "    }\n",
              "\n",
              "    .dataframe thead th {\n",
              "        text-align: right;\n",
              "    }\n",
              "</style>\n",
              "<table border=\"1\" class=\"dataframe\">\n",
              "  <thead>\n",
              "    <tr style=\"text-align: right;\">\n",
              "      <th></th>\n",
              "      <th>Label</th>\n",
              "      <th>Text</th>\n",
              "    </tr>\n",
              "  </thead>\n",
              "  <tbody>\n",
              "    <tr>\n",
              "      <th>1</th>\n",
              "      <td>N</td>\n",
              "      <td>But in the short-term it will absorb a lot of ...</td>\n",
              "    </tr>\n",
              "    <tr>\n",
              "      <th>3</th>\n",
              "      <td>N</td>\n",
              "      <td>Shocks from one-time changes in the terms of t...</td>\n",
              "    </tr>\n",
              "    <tr>\n",
              "      <th>6</th>\n",
              "      <td>N</td>\n",
              "      <td>During the past 18 months , the Houston-based ...</td>\n",
              "    </tr>\n",
              "    <tr>\n",
              "      <th>7</th>\n",
              "      <td>N</td>\n",
              "      <td>In the years since 1853 , when 4 , 058 steambo...</td>\n",
              "    </tr>\n",
              "    <tr>\n",
              "      <th>11</th>\n",
              "      <td>N</td>\n",
              "      <td>Mr. Wyss of Data Resources suggested that fact...</td>\n",
              "    </tr>\n",
              "  </tbody>\n",
              "</table>\n",
              "</div>"
            ],
            "text/plain": [
              "   Label                                               Text\n",
              "1      N  But in the short-term it will absorb a lot of ...\n",
              "3      N  Shocks from one-time changes in the terms of t...\n",
              "6      N  During the past 18 months , the Houston-based ...\n",
              "7      N  In the years since 1853 , when 4 , 058 steambo...\n",
              "11     N  Mr. Wyss of Data Resources suggested that fact..."
            ]
          },
          "metadata": {},
          "execution_count": 19
        }
      ]
    },
    {
      "cell_type": "code",
      "metadata": {
        "id": "4WT_azvAsCjQ"
      },
      "source": [
        "# 간단한 특수문제 제거\n",
        "preprocessed_sen = []\n",
        "for txt in new_df['Text']:\n",
        "  preprocessed_sen.append(txt.replace('./.', '').strip())"
      ],
      "execution_count": null,
      "outputs": []
    },
    {
      "cell_type": "code",
      "metadata": {
        "id": "wGO4lC_UscrQ"
      },
      "source": [
        "new_df['Text'] = preprocessed_sen"
      ],
      "execution_count": null,
      "outputs": []
    },
    {
      "cell_type": "code",
      "metadata": {
        "colab": {
          "base_uri": "https://localhost:8080/",
          "height": 52
        },
        "id": "jsSwuwtHsf8Q",
        "outputId": "76d9933d-8a81-4062-f453-a154b491711f"
      },
      "source": [
        "# 제거 확인\n",
        "new_df['Text'][1]"
      ],
      "execution_count": null,
      "outputs": [
        {
          "output_type": "execute_result",
          "data": {
            "application/vnd.google.colaboratory.intrinsic+json": {
              "type": "string"
            },
            "text/plain": [
              "\"But in the short-term it will absorb a lot of top management 's energy and attention , '' says Philippe Haspeslagh , a business professor at the European management school , Insead , in Paris\""
            ]
          },
          "metadata": {},
          "execution_count": 22
        }
      ]
    },
    {
      "cell_type": "code",
      "metadata": {
        "colab": {
          "base_uri": "https://localhost:8080/",
          "height": 415
        },
        "id": "ayKSnL--sjBw",
        "outputId": "bb060ab2-8406-4881-b491-653416da684a"
      },
      "source": [
        "new_df"
      ],
      "execution_count": null,
      "outputs": [
        {
          "output_type": "execute_result",
          "data": {
            "text/html": [
              "<div>\n",
              "<style scoped>\n",
              "    .dataframe tbody tr th:only-of-type {\n",
              "        vertical-align: middle;\n",
              "    }\n",
              "\n",
              "    .dataframe tbody tr th {\n",
              "        vertical-align: top;\n",
              "    }\n",
              "\n",
              "    .dataframe thead th {\n",
              "        text-align: right;\n",
              "    }\n",
              "</style>\n",
              "<table border=\"1\" class=\"dataframe\">\n",
              "  <thead>\n",
              "    <tr style=\"text-align: right;\">\n",
              "      <th></th>\n",
              "      <th>Label</th>\n",
              "      <th>Text</th>\n",
              "    </tr>\n",
              "  </thead>\n",
              "  <tbody>\n",
              "    <tr>\n",
              "      <th>1</th>\n",
              "      <td>N</td>\n",
              "      <td>But in the short-term it will absorb a lot of ...</td>\n",
              "    </tr>\n",
              "    <tr>\n",
              "      <th>3</th>\n",
              "      <td>N</td>\n",
              "      <td>Shocks from one-time changes in the terms of t...</td>\n",
              "    </tr>\n",
              "    <tr>\n",
              "      <th>6</th>\n",
              "      <td>N</td>\n",
              "      <td>During the past 18 months , the Houston-based ...</td>\n",
              "    </tr>\n",
              "    <tr>\n",
              "      <th>7</th>\n",
              "      <td>N</td>\n",
              "      <td>In the years since 1853 , when 4 , 058 steambo...</td>\n",
              "    </tr>\n",
              "    <tr>\n",
              "      <th>11</th>\n",
              "      <td>N</td>\n",
              "      <td>Mr. Wyss of Data Resources suggested that fact...</td>\n",
              "    </tr>\n",
              "    <tr>\n",
              "      <th>...</th>\n",
              "      <td>...</td>\n",
              "      <td>...</td>\n",
              "    </tr>\n",
              "    <tr>\n",
              "      <th>6431</th>\n",
              "      <td>N</td>\n",
              "      <td>But the OTC market was withering badly near th...</td>\n",
              "    </tr>\n",
              "    <tr>\n",
              "      <th>6432</th>\n",
              "      <td>N</td>\n",
              "      <td>But the ANC has grown , and black supremacist ...</td>\n",
              "    </tr>\n",
              "    <tr>\n",
              "      <th>6433</th>\n",
              "      <td>N</td>\n",
              "      <td>The combination was supposed to make First Rep...</td>\n",
              "    </tr>\n",
              "    <tr>\n",
              "      <th>6434</th>\n",
              "      <td>N</td>\n",
              "      <td>Indeed , thanks to a well-oiled political mach...</td>\n",
              "    </tr>\n",
              "    <tr>\n",
              "      <th>6435</th>\n",
              "      <td>N</td>\n",
              "      <td>But by 1985 the boom was over , and sales had ...</td>\n",
              "    </tr>\n",
              "  </tbody>\n",
              "</table>\n",
              "<p>3737 rows × 2 columns</p>\n",
              "</div>"
            ],
            "text/plain": [
              "     Label                                               Text\n",
              "1        N  But in the short-term it will absorb a lot of ...\n",
              "3        N  Shocks from one-time changes in the terms of t...\n",
              "6        N  During the past 18 months , the Houston-based ...\n",
              "7        N  In the years since 1853 , when 4 , 058 steambo...\n",
              "11       N  Mr. Wyss of Data Resources suggested that fact...\n",
              "...    ...                                                ...\n",
              "6431     N  But the OTC market was withering badly near th...\n",
              "6432     N  But the ANC has grown , and black supremacist ...\n",
              "6433     N  The combination was supposed to make First Rep...\n",
              "6434     N  Indeed , thanks to a well-oiled political mach...\n",
              "6435     N  But by 1985 the boom was over , and sales had ...\n",
              "\n",
              "[3737 rows x 2 columns]"
            ]
          },
          "metadata": {},
          "execution_count": 23
        }
      ]
    },
    {
      "cell_type": "code",
      "metadata": {
        "id": "_yo_JGVasmdZ"
      },
      "source": [
        "new_df.reset_index(inplace=True, drop=True)"
      ],
      "execution_count": null,
      "outputs": []
    },
    {
      "cell_type": "code",
      "metadata": {
        "colab": {
          "base_uri": "https://localhost:8080/"
        },
        "id": "nzxDWGMTsqbj",
        "outputId": "d7884f44-8c94-4c89-b63a-ecf17498bd67"
      },
      "source": [
        "new_df['Label'].value_counts()"
      ],
      "execution_count": null,
      "outputs": [
        {
          "output_type": "execute_result",
          "data": {
            "text/plain": [
              "N    2145\n",
              "L    1592\n",
              "Name: Label, dtype: int64"
            ]
          },
          "metadata": {},
          "execution_count": 26
        }
      ]
    },
    {
      "cell_type": "code",
      "metadata": {
        "id": "c88yw_-oswpZ"
      },
      "source": [
        "# Label 값을 N-1, L-0 으론 변환\n",
        "labels = []\n",
        "for l in new_df['Label']:\n",
        "  if l == 'N':\n",
        "    labels.append(1)\n",
        "  elif l == 'L':\n",
        "    labels.append(2)"
      ],
      "execution_count": null,
      "outputs": []
    },
    {
      "cell_type": "code",
      "metadata": {
        "id": "6yLhS7Pjtkf7"
      },
      "source": [
        "df_idiom = new_df.copy()"
      ],
      "execution_count": null,
      "outputs": []
    },
    {
      "cell_type": "code",
      "metadata": {
        "id": "T8-82Fs1tvyZ"
      },
      "source": [
        "df_idiom['Label'] = labels"
      ],
      "execution_count": null,
      "outputs": []
    },
    {
      "cell_type": "code",
      "metadata": {
        "colab": {
          "base_uri": "https://localhost:8080/"
        },
        "id": "hhZb6nkdt8eY",
        "outputId": "6c5f991b-8092-4a65-fb76-24394da9bba0"
      },
      "source": [
        "df_idiom['Label'].value_counts()"
      ],
      "execution_count": null,
      "outputs": [
        {
          "output_type": "execute_result",
          "data": {
            "text/plain": [
              "1    2145\n",
              "2    1592\n",
              "Name: Label, dtype: int64"
            ]
          },
          "metadata": {},
          "execution_count": 30
        }
      ]
    },
    {
      "cell_type": "code",
      "metadata": {
        "colab": {
          "base_uri": "https://localhost:8080/",
          "height": 415
        },
        "id": "9FQeDkUPuBxZ",
        "outputId": "496a2b30-000f-430c-c7ea-d4351f154883"
      },
      "source": [
        "df_idiom"
      ],
      "execution_count": null,
      "outputs": [
        {
          "output_type": "execute_result",
          "data": {
            "text/html": [
              "<div>\n",
              "<style scoped>\n",
              "    .dataframe tbody tr th:only-of-type {\n",
              "        vertical-align: middle;\n",
              "    }\n",
              "\n",
              "    .dataframe tbody tr th {\n",
              "        vertical-align: top;\n",
              "    }\n",
              "\n",
              "    .dataframe thead th {\n",
              "        text-align: right;\n",
              "    }\n",
              "</style>\n",
              "<table border=\"1\" class=\"dataframe\">\n",
              "  <thead>\n",
              "    <tr style=\"text-align: right;\">\n",
              "      <th></th>\n",
              "      <th>Label</th>\n",
              "      <th>Text</th>\n",
              "    </tr>\n",
              "  </thead>\n",
              "  <tbody>\n",
              "    <tr>\n",
              "      <th>0</th>\n",
              "      <td>1</td>\n",
              "      <td>But in the short-term it will absorb a lot of ...</td>\n",
              "    </tr>\n",
              "    <tr>\n",
              "      <th>1</th>\n",
              "      <td>1</td>\n",
              "      <td>Shocks from one-time changes in the terms of t...</td>\n",
              "    </tr>\n",
              "    <tr>\n",
              "      <th>2</th>\n",
              "      <td>1</td>\n",
              "      <td>During the past 18 months , the Houston-based ...</td>\n",
              "    </tr>\n",
              "    <tr>\n",
              "      <th>3</th>\n",
              "      <td>1</td>\n",
              "      <td>In the years since 1853 , when 4 , 058 steambo...</td>\n",
              "    </tr>\n",
              "    <tr>\n",
              "      <th>4</th>\n",
              "      <td>1</td>\n",
              "      <td>Mr. Wyss of Data Resources suggested that fact...</td>\n",
              "    </tr>\n",
              "    <tr>\n",
              "      <th>...</th>\n",
              "      <td>...</td>\n",
              "      <td>...</td>\n",
              "    </tr>\n",
              "    <tr>\n",
              "      <th>3732</th>\n",
              "      <td>1</td>\n",
              "      <td>But the OTC market was withering badly near th...</td>\n",
              "    </tr>\n",
              "    <tr>\n",
              "      <th>3733</th>\n",
              "      <td>1</td>\n",
              "      <td>But the ANC has grown , and black supremacist ...</td>\n",
              "    </tr>\n",
              "    <tr>\n",
              "      <th>3734</th>\n",
              "      <td>1</td>\n",
              "      <td>The combination was supposed to make First Rep...</td>\n",
              "    </tr>\n",
              "    <tr>\n",
              "      <th>3735</th>\n",
              "      <td>1</td>\n",
              "      <td>Indeed , thanks to a well-oiled political mach...</td>\n",
              "    </tr>\n",
              "    <tr>\n",
              "      <th>3736</th>\n",
              "      <td>1</td>\n",
              "      <td>But by 1985 the boom was over , and sales had ...</td>\n",
              "    </tr>\n",
              "  </tbody>\n",
              "</table>\n",
              "<p>3737 rows × 2 columns</p>\n",
              "</div>"
            ],
            "text/plain": [
              "      Label                                               Text\n",
              "0         1  But in the short-term it will absorb a lot of ...\n",
              "1         1  Shocks from one-time changes in the terms of t...\n",
              "2         1  During the past 18 months , the Houston-based ...\n",
              "3         1  In the years since 1853 , when 4 , 058 steambo...\n",
              "4         1  Mr. Wyss of Data Resources suggested that fact...\n",
              "...     ...                                                ...\n",
              "3732      1  But the OTC market was withering badly near th...\n",
              "3733      1  But the ANC has grown , and black supremacist ...\n",
              "3734      1  The combination was supposed to make First Rep...\n",
              "3735      1  Indeed , thanks to a well-oiled political mach...\n",
              "3736      1  But by 1985 the boom was over , and sales had ...\n",
              "\n",
              "[3737 rows x 2 columns]"
            ]
          },
          "metadata": {},
          "execution_count": 31
        }
      ]
    },
    {
      "cell_type": "code",
      "metadata": {
        "id": "WG1DRA7TuDkJ"
      },
      "source": [
        "# 추가 전처리 작업\n",
        "add_preprocess = []\n",
        "for txt in df_idiom['Text']:\n",
        "  add_preprocess.append(txt.replace(\"''/''\", '').replace(\"?/.\", '').strip())"
      ],
      "execution_count": null,
      "outputs": []
    },
    {
      "cell_type": "code",
      "metadata": {
        "colab": {
          "base_uri": "https://localhost:8080/",
          "height": 52
        },
        "id": "WBMt3CCJuRDp",
        "outputId": "6e50706a-5932-413e-e663-6b57325418a8"
      },
      "source": [
        "add_preprocess[9]"
      ],
      "execution_count": null,
      "outputs": [
        {
          "output_type": "execute_result",
          "data": {
            "application/vnd.google.colaboratory.intrinsic+json": {
              "type": "string"
            },
            "text/plain": [
              "'Mr. Ennis said he believes Rockwood got into financial difficulty because its expansion efforts `` outstripped its ability to absorb those activities .'"
            ]
          },
          "metadata": {},
          "execution_count": 34
        }
      ]
    },
    {
      "cell_type": "code",
      "metadata": {
        "id": "kJccJVbNuf1p"
      },
      "source": [
        "df_idiom['Text'] = add_preprocess"
      ],
      "execution_count": null,
      "outputs": []
    },
    {
      "cell_type": "code",
      "metadata": {
        "colab": {
          "base_uri": "https://localhost:8080/",
          "height": 52
        },
        "id": "s2aa_VelulEJ",
        "outputId": "e93525bc-0c8b-46c7-819e-c9aa435b3ddd"
      },
      "source": [
        "# 확인\n",
        "df_idiom['Text'][9]"
      ],
      "execution_count": null,
      "outputs": [
        {
          "output_type": "execute_result",
          "data": {
            "application/vnd.google.colaboratory.intrinsic+json": {
              "type": "string"
            },
            "text/plain": [
              "'Mr. Ennis said he believes Rockwood got into financial difficulty because its expansion efforts `` outstripped its ability to absorb those activities .'"
            ]
          },
          "metadata": {},
          "execution_count": 36
        }
      ]
    },
    {
      "cell_type": "code",
      "metadata": {
        "id": "RXg6kFvBuoyB"
      },
      "source": [
        "df_idiom.to_csv('Trofi_dataset.csv', index=False)"
      ],
      "execution_count": null,
      "outputs": []
    },
    {
      "cell_type": "code",
      "metadata": {
        "id": "7o44kTgXu6gq"
      },
      "source": [
        ""
      ],
      "execution_count": null,
      "outputs": []
    }
  ]
}