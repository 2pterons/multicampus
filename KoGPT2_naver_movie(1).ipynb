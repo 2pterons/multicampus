{
  "nbformat": 4,
  "nbformat_minor": 0,
  "metadata": {
    "colab": {
      "name": "KoGPT2_naver_movie(1).ipynb",
      "provenance": [],
      "collapsed_sections": [],
      "machine_shape": "hm",
      "mount_file_id": "1tnv6NQUgaatpjI5o9Ws6zD6WT1Iyw2ln",
      "authorship_tag": "ABX9TyPrrC2j3B3k+ymi0CxsXNdv",
      "include_colab_link": true
    },
    "kernelspec": {
      "name": "python3",
      "display_name": "Python 3"
    },
    "language_info": {
      "name": "python"
    },
    "accelerator": "GPU"
  },
  "cells": [
    {
      "cell_type": "markdown",
      "metadata": {
        "id": "view-in-github",
        "colab_type": "text"
      },
      "source": [
        "<a href=\"https://colab.research.google.com/github/2pterons/multicampus/blob/main/KoGPT2_naver_movie(1).ipynb\" target=\"_parent\"><img src=\"https://colab.research.google.com/assets/colab-badge.svg\" alt=\"Open In Colab\"/></a>"
      ]
    },
    {
      "cell_type": "code",
      "metadata": {
        "colab": {
          "base_uri": "https://localhost:8080/"
        },
        "id": "UOSIP5l6TJsC",
        "outputId": "745a3863-bd83-49fe-9585-7404d51d3636"
      },
      "source": [
        "# KoGPT2를 이용한 네이버 영화 감성분석\n",
        "!pip install --upgrade mxnet>=1.6.0\n",
        "!pip install gluonnlp\n",
        "!pip install transformers\n",
        "!pip install sentencepiece"
      ],
      "execution_count": null,
      "outputs": [
        {
          "output_type": "stream",
          "name": "stdout",
          "text": [
            "Collecting gluonnlp\n",
            "  Downloading gluonnlp-0.10.0.tar.gz (344 kB)\n",
            "\u001b[?25l\r\u001b[K     |█                               | 10 kB 37.3 MB/s eta 0:00:01\r\u001b[K     |██                              | 20 kB 39.4 MB/s eta 0:00:01\r\u001b[K     |██▉                             | 30 kB 22.2 MB/s eta 0:00:01\r\u001b[K     |███▉                            | 40 kB 17.6 MB/s eta 0:00:01\r\u001b[K     |████▊                           | 51 kB 10.2 MB/s eta 0:00:01\r\u001b[K     |█████▊                          | 61 kB 10.1 MB/s eta 0:00:01\r\u001b[K     |██████▋                         | 71 kB 9.1 MB/s eta 0:00:01\r\u001b[K     |███████▋                        | 81 kB 10.2 MB/s eta 0:00:01\r\u001b[K     |████████▋                       | 92 kB 10.5 MB/s eta 0:00:01\r\u001b[K     |█████████▌                      | 102 kB 9.7 MB/s eta 0:00:01\r\u001b[K     |██████████▌                     | 112 kB 9.7 MB/s eta 0:00:01\r\u001b[K     |███████████▍                    | 122 kB 9.7 MB/s eta 0:00:01\r\u001b[K     |████████████▍                   | 133 kB 9.7 MB/s eta 0:00:01\r\u001b[K     |█████████████▎                  | 143 kB 9.7 MB/s eta 0:00:01\r\u001b[K     |██████████████▎                 | 153 kB 9.7 MB/s eta 0:00:01\r\u001b[K     |███████████████▏                | 163 kB 9.7 MB/s eta 0:00:01\r\u001b[K     |████████████████▏               | 174 kB 9.7 MB/s eta 0:00:01\r\u001b[K     |█████████████████▏              | 184 kB 9.7 MB/s eta 0:00:01\r\u001b[K     |██████████████████              | 194 kB 9.7 MB/s eta 0:00:01\r\u001b[K     |███████████████████             | 204 kB 9.7 MB/s eta 0:00:01\r\u001b[K     |████████████████████            | 215 kB 9.7 MB/s eta 0:00:01\r\u001b[K     |█████████████████████           | 225 kB 9.7 MB/s eta 0:00:01\r\u001b[K     |█████████████████████▉          | 235 kB 9.7 MB/s eta 0:00:01\r\u001b[K     |██████████████████████▉         | 245 kB 9.7 MB/s eta 0:00:01\r\u001b[K     |███████████████████████▉        | 256 kB 9.7 MB/s eta 0:00:01\r\u001b[K     |████████████████████████▊       | 266 kB 9.7 MB/s eta 0:00:01\r\u001b[K     |█████████████████████████▊      | 276 kB 9.7 MB/s eta 0:00:01\r\u001b[K     |██████████████████████████▋     | 286 kB 9.7 MB/s eta 0:00:01\r\u001b[K     |███████████████████████████▋    | 296 kB 9.7 MB/s eta 0:00:01\r\u001b[K     |████████████████████████████▌   | 307 kB 9.7 MB/s eta 0:00:01\r\u001b[K     |█████████████████████████████▌  | 317 kB 9.7 MB/s eta 0:00:01\r\u001b[K     |██████████████████████████████▍ | 327 kB 9.7 MB/s eta 0:00:01\r\u001b[K     |███████████████████████████████▍| 337 kB 9.7 MB/s eta 0:00:01\r\u001b[K     |████████████████████████████████| 344 kB 9.7 MB/s \n",
            "\u001b[?25hRequirement already satisfied: numpy>=1.16.0 in /usr/local/lib/python3.7/dist-packages (from gluonnlp) (1.19.5)\n",
            "Requirement already satisfied: cython in /usr/local/lib/python3.7/dist-packages (from gluonnlp) (0.29.24)\n",
            "Requirement already satisfied: packaging in /usr/local/lib/python3.7/dist-packages (from gluonnlp) (21.0)\n",
            "Requirement already satisfied: pyparsing>=2.0.2 in /usr/local/lib/python3.7/dist-packages (from packaging->gluonnlp) (2.4.7)\n",
            "Building wheels for collected packages: gluonnlp\n",
            "  Building wheel for gluonnlp (setup.py) ... \u001b[?25l\u001b[?25hdone\n",
            "  Created wheel for gluonnlp: filename=gluonnlp-0.10.0-cp37-cp37m-linux_x86_64.whl size=595735 sha256=96572f35847dfe5d8f20a8f86ee243ca4c9713e98a211771e272a6afc9438645\n",
            "  Stored in directory: /root/.cache/pip/wheels/be/b4/06/7f3fdfaf707e6b5e98b79c041e023acffbe395d78a527eae00\n",
            "Successfully built gluonnlp\n",
            "Installing collected packages: gluonnlp\n",
            "Successfully installed gluonnlp-0.10.0\n",
            "Collecting transformers\n",
            "  Downloading transformers-4.10.0-py3-none-any.whl (2.8 MB)\n",
            "\u001b[K     |████████████████████████████████| 2.8 MB 7.4 MB/s \n",
            "\u001b[?25hRequirement already satisfied: requests in /usr/local/lib/python3.7/dist-packages (from transformers) (2.23.0)\n",
            "Requirement already satisfied: tqdm>=4.27 in /usr/local/lib/python3.7/dist-packages (from transformers) (4.62.0)\n",
            "Requirement already satisfied: filelock in /usr/local/lib/python3.7/dist-packages (from transformers) (3.0.12)\n",
            "Collecting pyyaml>=5.1\n",
            "  Downloading PyYAML-5.4.1-cp37-cp37m-manylinux1_x86_64.whl (636 kB)\n",
            "\u001b[K     |████████████████████████████████| 636 kB 66.7 MB/s \n",
            "\u001b[?25hRequirement already satisfied: importlib-metadata in /usr/local/lib/python3.7/dist-packages (from transformers) (4.6.4)\n",
            "Requirement already satisfied: packaging in /usr/local/lib/python3.7/dist-packages (from transformers) (21.0)\n",
            "Requirement already satisfied: regex!=2019.12.17 in /usr/local/lib/python3.7/dist-packages (from transformers) (2019.12.20)\n",
            "Collecting tokenizers<0.11,>=0.10.1\n",
            "  Downloading tokenizers-0.10.3-cp37-cp37m-manylinux_2_5_x86_64.manylinux1_x86_64.manylinux_2_12_x86_64.manylinux2010_x86_64.whl (3.3 MB)\n",
            "\u001b[K     |████████████████████████████████| 3.3 MB 64.9 MB/s \n",
            "\u001b[?25hCollecting sacremoses\n",
            "  Downloading sacremoses-0.0.45-py3-none-any.whl (895 kB)\n",
            "\u001b[K     |████████████████████████████████| 895 kB 63.7 MB/s \n",
            "\u001b[?25hCollecting huggingface-hub>=0.0.12\n",
            "  Downloading huggingface_hub-0.0.16-py3-none-any.whl (50 kB)\n",
            "\u001b[K     |████████████████████████████████| 50 kB 8.9 MB/s \n",
            "\u001b[?25hRequirement already satisfied: numpy>=1.17 in /usr/local/lib/python3.7/dist-packages (from transformers) (1.19.5)\n",
            "Requirement already satisfied: typing-extensions in /usr/local/lib/python3.7/dist-packages (from huggingface-hub>=0.0.12->transformers) (3.7.4.3)\n",
            "Requirement already satisfied: pyparsing>=2.0.2 in /usr/local/lib/python3.7/dist-packages (from packaging->transformers) (2.4.7)\n",
            "Requirement already satisfied: zipp>=0.5 in /usr/local/lib/python3.7/dist-packages (from importlib-metadata->transformers) (3.5.0)\n",
            "Requirement already satisfied: chardet<4,>=3.0.2 in /usr/local/lib/python3.7/dist-packages (from requests->transformers) (3.0.4)\n",
            "Requirement already satisfied: certifi>=2017.4.17 in /usr/local/lib/python3.7/dist-packages (from requests->transformers) (2021.5.30)\n",
            "Requirement already satisfied: urllib3!=1.25.0,!=1.25.1,<1.26,>=1.21.1 in /usr/local/lib/python3.7/dist-packages (from requests->transformers) (1.24.3)\n",
            "Requirement already satisfied: idna<3,>=2.5 in /usr/local/lib/python3.7/dist-packages (from requests->transformers) (2.10)\n",
            "Requirement already satisfied: click in /usr/local/lib/python3.7/dist-packages (from sacremoses->transformers) (7.1.2)\n",
            "Requirement already satisfied: joblib in /usr/local/lib/python3.7/dist-packages (from sacremoses->transformers) (1.0.1)\n",
            "Requirement already satisfied: six in /usr/local/lib/python3.7/dist-packages (from sacremoses->transformers) (1.15.0)\n",
            "Installing collected packages: tokenizers, sacremoses, pyyaml, huggingface-hub, transformers\n",
            "  Attempting uninstall: pyyaml\n",
            "    Found existing installation: PyYAML 3.13\n",
            "    Uninstalling PyYAML-3.13:\n",
            "      Successfully uninstalled PyYAML-3.13\n",
            "Successfully installed huggingface-hub-0.0.16 pyyaml-5.4.1 sacremoses-0.0.45 tokenizers-0.10.3 transformers-4.10.0\n",
            "Collecting sentencepiece\n",
            "  Downloading sentencepiece-0.1.96-cp37-cp37m-manylinux_2_17_x86_64.manylinux2014_x86_64.whl (1.2 MB)\n",
            "\u001b[K     |████████████████████████████████| 1.2 MB 8.2 MB/s \n",
            "\u001b[?25hInstalling collected packages: sentencepiece\n",
            "Successfully installed sentencepiece-0.1.96\n"
          ]
        }
      ]
    },
    {
      "cell_type": "code",
      "metadata": {
        "id": "dAk4ldG4TRe5"
      },
      "source": [
        "import gluonnlp as nlp\n",
        "from gluonnlp.data import SentencepieceTokenizer, SentencepieceDetokenizer\n",
        "from transformers import TFGPT2LMHeadModel\n",
        "import tensorflow as tf\n",
        "\n",
        "import pandas as pd\n",
        "import numpy as np\n",
        "from tensorflow.keras.layers import Dense, Input\n",
        "from tensorflow.keras.models import Model\n",
        "from tensorflow.keras.optimizers import Adam\n",
        "from sklearn.model_selection import train_test_split\n",
        "from tensorflow.keras.preprocessing.sequence import pad_sequences\n",
        "import re\n",
        "from tqdm import tqdm\n",
        "import matplotlib.pyplot as plt"
      ],
      "execution_count": null,
      "outputs": []
    },
    {
      "cell_type": "code",
      "metadata": {
        "colab": {
          "base_uri": "https://localhost:8080/"
        },
        "id": "v8g3VCH3TTt7",
        "outputId": "10b834a8-c895-494a-b1eb-7491a2078edf"
      },
      "source": [
        "# Commented out IPython magic to ensure Python compatibility.\n",
        "%cd /content/drive/MyDrive/Colab Notebooks/multicampus/Idiom Classifier/data/\n",
        "import pickle\n",
        "with open('final_idiom_dataset_for_ko.pkl', 'rb') as f:\n",
        "  text = pickle.load(f)"
      ],
      "execution_count": null,
      "outputs": [
        {
          "output_type": "stream",
          "name": "stdout",
          "text": [
            "/content/drive/MyDrive/Colab Notebooks/multicampus/Idiom Classifier/data\n"
          ]
        }
      ]
    },
    {
      "cell_type": "code",
      "metadata": {
        "colab": {
          "base_uri": "https://localhost:8080/"
        },
        "id": "4_CUioLhTcNq",
        "outputId": "22959c64-90e3-4a0b-9aca-7c10d7e4f693"
      },
      "source": [
        "data = text['ko']\n",
        "data.head()"
      ],
      "execution_count": null,
      "outputs": [
        {
          "output_type": "execute_result",
          "data": {
            "text/plain": [
              "0    다만 지난 7월부터 수면 무호흡증 진단을 위한 수면다원검사와 치료에 필요한 양압기 ...\n",
              "1                  하지만 몇몇 사람들은 그 표현이 관용구인지 알아차리지 못합니다.\n",
              "2    끈끈한 승부근성으로 찬스에서 더 영양가 만점의 활약을 하는 오재원이 있기에 선두질주...\n",
              "3    협약내용은 삼성화재서비스손해사정㈜에서 매월 임직원들의 기부를 통해 향후 3년간 30...\n",
              "4                  이 같은 대중적 관심을 겨냥해 이동통신사가 발 빠르게 움직였다.\n",
              "Name: ko, dtype: object"
            ]
          },
          "metadata": {},
          "execution_count": 4
        }
      ]
    },
    {
      "cell_type": "code",
      "metadata": {
        "colab": {
          "base_uri": "https://localhost:8080/"
        },
        "id": "GeTW7huJUgIY",
        "outputId": "8d3eea02-504d-4374-ed69-b9e138ff4804"
      },
      "source": [
        "target = text['Label']\n",
        "target.head()"
      ],
      "execution_count": null,
      "outputs": [
        {
          "output_type": "execute_result",
          "data": {
            "text/plain": [
              "0    0\n",
              "1    0\n",
              "2    1\n",
              "3    0\n",
              "4    1\n",
              "Name: Label, dtype: int64"
            ]
          },
          "metadata": {},
          "execution_count": 5
        }
      ]
    },
    {
      "cell_type": "code",
      "metadata": {
        "colab": {
          "base_uri": "https://localhost:8080/",
          "height": 1000
        },
        "id": "id52DgpVVBXL",
        "outputId": "402e658c-d670-43aa-b683-aa83d3e2da8e"
      },
      "source": [
        "\n",
        "dx_train,dx_test, dy_train, dy_test = train_test_split(data, target, test_size=0.2, stratify=target, random_state=42)\n",
        "\n",
        "MY_PATH = '/content/drive/MyDrive/Colab Notebooks/multicampus/Idiom Classifier/4.KoGPT2/'\n",
        "MODEL_PATH = MY_PATH + 'gpt_ckpt'\n",
        "TOKENIZER_PATH = MY_PATH + 'gpt_ckpt/gpt2_kor_tokenizer.spiece'\n",
        "\n",
        "tokenizer = SentencepieceTokenizer(TOKENIZER_PATH, num_best=0, alpha=0)\n",
        "detokenizer = SentencepieceDetokenizer(TOKENIZER_PATH)\n",
        "vocab = nlp.vocab.BERTVocab.from_sentencepiece(TOKENIZER_PATH,\n",
        "                                               mask_token = None,\n",
        "                                               sep_token = None,\n",
        "                                               cls_token = None,\n",
        "                                               unknown_token = '<unk>',\n",
        "                                               padding_token = '<pad>',\n",
        "                                               bos_token = '<s>',\n",
        "                                               eos_token = '</s>')\n",
        "# vocab --> Vocab(size=50000, unk=\"<unk>\", reserved=\"['<pad>', '<s>', '</s>']\")\n",
        "\n",
        "MAX_LEN = 60\n",
        "\n",
        "def build_data(x_data, y_label):\n",
        "    data_sents = []\n",
        "    data_labels = []\n",
        "\n",
        "    for sent, label in zip(x_data, y_label):\n",
        "        tokenized_text = vocab[tokenizer(sent)]\n",
        "\n",
        "        tokens = [vocab[vocab.bos_token]]  \n",
        "        tokens += pad_sequences([tokenized_text], \n",
        "                                MAX_LEN, \n",
        "                                value=vocab[vocab.padding_token], \n",
        "                                padding='post').tolist()[0] \n",
        "        tokens += [vocab[vocab.eos_token]]\n",
        "\n",
        "        data_sents.append(tokens)\n",
        "        data_labels.append(label)\n",
        "\n",
        "    return np.array(data_sents, dtype=np.int64), np.array(data_labels, dtype=np.int64).reshape(-1, 1)\n",
        "\n",
        "# 시험용으로 100개씩만 사용한다.\n",
        "x_train, y_train = build_data(dx_train[:100], dy_train[:100])\n",
        "x_test, y_test = build_data(dx_test[:100], dy_test[:100])\n",
        "\n",
        "x_train.shape, y_train.shape, x_test.shape, y_test.shape\n",
        "\n",
        "x_test[0]\n",
        "\n",
        "len(x_test[0])\n",
        "\n",
        "print(len(vocab))\n",
        "print(vocab.padding_token, ':', vocab[vocab.padding_token])\n",
        "print(vocab.bos_token, ': ', vocab[vocab.bos_token])\n",
        "print(vocab.eos_token, ': ', vocab[vocab.eos_token])\n",
        "print(vocab.unknown_token, ': ', vocab[vocab.unknown_token])\n",
        "\n",
        "word2idx = {k:v for k, v in vocab.token_to_idx.items()}\n",
        "idx2word = {v:k for k, v in word2idx.items()}\n",
        "idx2word[5000]\n",
        "\n",
        "# 참고 : https://nlp.gluon.ai/api/modules/data.html\n",
        "tokenizer('나는 자연어처리를 공부하고 있다')\n",
        "\n",
        "print([idx2word[i] for i in x_test[0]])\n",
        "\n",
        "gpt_model = TFGPT2LMHeadModel.from_pretrained(MODEL_PATH)\n",
        "gpt_model.summary()\n",
        "\n",
        "#pre-trainmodel\n",
        "# TFGPT2MainLayer는 fine-tuning을 하지 않는다.\n",
        "gpt_model.trainable = False\n",
        "gpt_model.summary() # gtp_model을 다시 확인한다. trainable params = 0\n",
        "\n",
        "# GPT2 입력\n",
        "# ---------\n",
        "x_input = Input(batch_shape = (None, MAX_LEN + 2), dtype = tf.int32)\n",
        "\n",
        "# GPT2 출력\n",
        "# ---------\n",
        "# output_gpt[0]        --> <KerasTensor: shape=(None, 60, 50000) dtype=float32\n",
        "# output_gpt[0][:, -1] --> <KerasTensor: shape=(None, 50000) dtype=float32\n",
        "output_gpt = gpt_model(x_input)[0][:, -1]\n",
        "\n",
        "# Downstream task : 네이버 영화 감성분석\n",
        "# -------------------------------------\n",
        "# 사전학습데이터 없이 Dense Layer만 붙여놓은것\n",
        "y_output = Dense(1, activation = 'sigmoid')(output_gpt)\n",
        "model = Model(x_input, y_output)\n",
        "model.compile(loss = 'binary_crossentropy', optimizer = Adam(learning_rate = 0.001))\n",
        "model.summary()\n",
        "\n",
        "hist = model.fit(x_train, y_train, validation_data = (x_test, y_test), epochs=10, batch_size=32)\n",
        "\n",
        "# 1/1 [==============================] - 14s 14s/step - loss: 0.7251 - val_loss: 70.8553\n",
        "# Epoch 2/3\n",
        "# 1/1 [==============================] - 1s 1s/step - loss: 69.2513 - val_loss: 26.5999\n",
        "# Epoch 3/3\n",
        "# 1/1 [==============================] - 1s 1s/step - loss: 25.5047 - val_loss: 21.4767\n",
        "\n",
        "# Loss history를 그린다\n",
        "plt.plot(hist.history['loss'], label='Train loss')\n",
        "plt.plot(hist.history['val_loss'], label = 'Test loss')\n",
        "plt.legend()\n",
        "plt.title(\"Loss history\")\n",
        "plt.xlabel(\"epoch\")\n",
        "plt.ylabel(\"loss\")\n",
        "plt.show()\n",
        "\n",
        "# 시험 데이터로 학습 성능을 평가한다\n",
        "pred = model.predict(x_test)\n",
        "y_pred = np.where(pred > 0.5, 1, 0)\n",
        "accuracy = (y_pred == y_test).mean()\n",
        "print(\"\\nAccuracy = %.2f %s\" % (accuracy * 100, '%'))\n",
        "\n",
        "# gpt_model.trainable = True로 바꾸고, learning-rate를 작게 적용해서\n",
        "# 전체를 다시 학습한다. (미세 조정)"
      ],
      "execution_count": null,
      "outputs": [
        {
          "output_type": "stream",
          "name": "stdout",
          "text": [
            "50000\n",
            "<pad> : 3\n",
            "<s> :  0\n",
            "</s> :  1\n",
            "<unk> :  5\n",
            "['<s>', '▁양반', '김', '은', '▁한국', '▁수출', '품', '▁중', '▁상위', '▁세', '▁손가락', '▁안에', '▁드는', '▁틈새', '시장의', '▁숨은', '▁강', '자', '이에요', '.', '<pad>', '<pad>', '<pad>', '<pad>', '<pad>', '<pad>', '<pad>', '<pad>', '<pad>', '<pad>', '<pad>', '<pad>', '<pad>', '<pad>', '<pad>', '<pad>', '<pad>', '<pad>', '<pad>', '<pad>', '<pad>', '<pad>', '<pad>', '<pad>', '<pad>', '<pad>', '<pad>', '<pad>', '<pad>', '<pad>', '<pad>', '<pad>', '<pad>', '<pad>', '<pad>', '<pad>', '<pad>', '<pad>', '<pad>', '<pad>', '<pad>', '</s>']\n"
          ]
        },
        {
          "output_type": "stream",
          "name": "stderr",
          "text": [
            "All model checkpoint layers were used when initializing TFGPT2LMHeadModel.\n",
            "\n",
            "All the layers of TFGPT2LMHeadModel were initialized from the model checkpoint at /content/drive/MyDrive/Colab Notebooks/multicampus/Idiom Classifier/4.KoGPT2/gpt_ckpt.\n",
            "If your task is similar to the task the model of the checkpoint was trained on, you can already use TFGPT2LMHeadModel for predictions without further training.\n"
          ]
        },
        {
          "output_type": "stream",
          "name": "stdout",
          "text": [
            "Model: \"tfgp_t2lm_head_model\"\n",
            "_________________________________________________________________\n",
            "Layer (type)                 Output Shape              Param #   \n",
            "=================================================================\n",
            "transformer (TFGPT2MainLayer multiple                  124242432 \n",
            "=================================================================\n",
            "Total params: 124,242,432\n",
            "Trainable params: 124,242,432\n",
            "Non-trainable params: 0\n",
            "_________________________________________________________________\n",
            "Model: \"tfgp_t2lm_head_model\"\n",
            "_________________________________________________________________\n",
            "Layer (type)                 Output Shape              Param #   \n",
            "=================================================================\n",
            "transformer (TFGPT2MainLayer multiple                  124242432 \n",
            "=================================================================\n",
            "Total params: 124,242,432\n",
            "Trainable params: 0\n",
            "Non-trainable params: 124,242,432\n",
            "_________________________________________________________________\n",
            "WARNING:tensorflow:The parameters `output_attentions`, `output_hidden_states` and `use_cache` cannot be updated when calling a model.They have to be set to True/False in the config object (i.e.: `config=XConfig.from_pretrained('name', output_attentions=True)`).\n",
            "WARNING:tensorflow:AutoGraph could not transform <bound method Socket.send of <zmq.Socket(zmq.PUSH) at 0x7fcbfe84bf30>> and will run it as-is.\n",
            "Please report this to the TensorFlow team. When filing the bug, set the verbosity to 10 (on Linux, `export AUTOGRAPH_VERBOSITY=10`) and attach the full output.\n",
            "Cause: module, class, method, function, traceback, frame, or code object was expected, got cython_function_or_method\n",
            "To silence this warning, decorate the function with @tf.autograph.experimental.do_not_convert\n",
            "WARNING: AutoGraph could not transform <bound method Socket.send of <zmq.Socket(zmq.PUSH) at 0x7fcbfe84bf30>> and will run it as-is.\n",
            "Please report this to the TensorFlow team. When filing the bug, set the verbosity to 10 (on Linux, `export AUTOGRAPH_VERBOSITY=10`) and attach the full output.\n",
            "Cause: module, class, method, function, traceback, frame, or code object was expected, got cython_function_or_method\n",
            "To silence this warning, decorate the function with @tf.autograph.experimental.do_not_convert\n",
            "WARNING:tensorflow:AutoGraph could not transform <function wrap at 0x7fcc29a00950> and will run it as-is.\n",
            "Cause: while/else statement not yet supported\n",
            "To silence this warning, decorate the function with @tf.autograph.experimental.do_not_convert\n",
            "WARNING: AutoGraph could not transform <function wrap at 0x7fcc29a00950> and will run it as-is.\n",
            "Cause: while/else statement not yet supported\n",
            "To silence this warning, decorate the function with @tf.autograph.experimental.do_not_convert\n",
            "WARNING:tensorflow:The parameter `return_dict` cannot be set in graph mode and will always be set to `True`.\n",
            "Model: \"model\"\n",
            "_________________________________________________________________\n",
            "Layer (type)                 Output Shape              Param #   \n",
            "=================================================================\n",
            "input_1 (InputLayer)         [(None, 62)]              0         \n",
            "_________________________________________________________________\n",
            "tfgp_t2lm_head_model (TFGPT2 TFCausalLMOutputWithPast( 124242432 \n",
            "_________________________________________________________________\n",
            "tf.__operators__.getitem (Sl (None, 50000)             0         \n",
            "_________________________________________________________________\n",
            "dense (Dense)                (None, 1)                 50001     \n",
            "=================================================================\n",
            "Total params: 124,292,433\n",
            "Trainable params: 50,001\n",
            "Non-trainable params: 124,242,432\n",
            "_________________________________________________________________\n",
            "Epoch 1/10\n",
            "WARNING:tensorflow:The parameters `output_attentions`, `output_hidden_states` and `use_cache` cannot be updated when calling a model.They have to be set to True/False in the config object (i.e.: `config=XConfig.from_pretrained('name', output_attentions=True)`).\n",
            "WARNING:tensorflow:The parameter `return_dict` cannot be set in graph mode and will always be set to `True`.\n",
            "WARNING:tensorflow:The parameters `output_attentions`, `output_hidden_states` and `use_cache` cannot be updated when calling a model.They have to be set to True/False in the config object (i.e.: `config=XConfig.from_pretrained('name', output_attentions=True)`).\n",
            "WARNING:tensorflow:The parameter `return_dict` cannot be set in graph mode and will always be set to `True`.\n",
            "3/4 [=====================>........] - ETA: 0s - loss: 36.9101WARNING:tensorflow:The parameters `output_attentions`, `output_hidden_states` and `use_cache` cannot be updated when calling a model.They have to be set to True/False in the config object (i.e.: `config=XConfig.from_pretrained('name', output_attentions=True)`).\n",
            "WARNING:tensorflow:The parameter `return_dict` cannot be set in graph mode and will always be set to `True`.\n",
            "4/4 [==============================] - 14s 1s/step - loss: 35.4337 - val_loss: 2.9556\n",
            "Epoch 2/10\n",
            "4/4 [==============================] - 1s 288ms/step - loss: 15.3810 - val_loss: 5.1602\n",
            "Epoch 3/10\n",
            "4/4 [==============================] - 1s 288ms/step - loss: 5.9470 - val_loss: 7.5334\n",
            "Epoch 4/10\n",
            "4/4 [==============================] - 1s 286ms/step - loss: 4.7275 - val_loss: 5.3586\n",
            "Epoch 5/10\n",
            "4/4 [==============================] - 1s 290ms/step - loss: 5.6420 - val_loss: 5.7644\n",
            "Epoch 6/10\n",
            "4/4 [==============================] - 1s 287ms/step - loss: 9.0205 - val_loss: 12.7959\n",
            "Epoch 7/10\n",
            "4/4 [==============================] - 1s 290ms/step - loss: 19.2957 - val_loss: 18.2853\n",
            "Epoch 8/10\n",
            "4/4 [==============================] - 1s 291ms/step - loss: 12.0318 - val_loss: 10.3751\n",
            "Epoch 9/10\n",
            "4/4 [==============================] - 1s 292ms/step - loss: 5.2117 - val_loss: 16.5953\n",
            "Epoch 10/10\n",
            "4/4 [==============================] - 1s 292ms/step - loss: 11.0158 - val_loss: 12.1165\n"
          ]
        },
        {
          "output_type": "display_data",
          "data": {
            "image/png": "[encoded data removed]",
            "text/plain": [
              "<Figure size 432x288 with 1 Axes>"
            ]
          },
          "metadata": {
            "needs_background": "light"
          }
        },
        {
          "output_type": "stream",
          "name": "stdout",
          "text": [
            "WARNING:tensorflow:The parameters `output_attentions`, `output_hidden_states` and `use_cache` cannot be updated when calling a model.They have to be set to True/False in the config object (i.e.: `config=XConfig.from_pretrained('name', output_attentions=True)`).\n",
            "WARNING:tensorflow:The parameter `return_dict` cannot be set in graph mode and will always be set to `True`.\n",
            "\n",
            "Accuracy = 46.00 %\n"
          ]
        }
      ]
    },
    {
      "cell_type": "code",
      "metadata": {
        "id": "YyMGeCLhWYmK"
      },
      "source": [
        "MAX_LEN = 60\n",
        "\n",
        "def build_data(x_data, y_label):\n",
        "    data_sents = []\n",
        "    data_labels = []\n",
        "\n",
        "    for sent, label in zip(x_data, y_label):\n",
        "        tokenized_text = vocab[tokenizer(sent)]\n",
        "\n",
        "        tokens = [vocab[vocab.bos_token]]  \n",
        "        tokens += pad_sequences([tokenized_text], \n",
        "                                MAX_LEN, \n",
        "                                value=vocab[vocab.padding_token], \n",
        "                                padding='post').tolist()[0] \n",
        "        tokens += [vocab[vocab.eos_token]]\n",
        "\n",
        "        data_sents.append(tokens)\n",
        "        data_labels.append(label)\n",
        "\n",
        "    return np.array(data_sents, dtype=np.int64), np.array(data_labels, dtype=np.int64).reshape(-1, 1)\n"
      ],
      "execution_count": null,
      "outputs": []
    },
    {
      "cell_type": "code",
      "metadata": {
        "colab": {
          "base_uri": "https://localhost:8080/"
        },
        "id": "rm-6oDmGYD-1",
        "outputId": "7aaf7885-302d-4fdf-9b11-46ef3e701c84"
      },
      "source": [
        "# 시험용으로 100개씩만 사용한다.\n",
        "x_train, y_train = build_data(dx_train[:100], dy_train[:100])\n",
        "x_test, y_test = build_data(dx_test[:100], dy_test[:100])\n",
        "\n",
        "x_train.shape, y_train.shape, x_test.shape, y_test.shape\n",
        "\n",
        "x_test[0]\n",
        "\n",
        "len(x_test[0])\n"
      ],
      "execution_count": null,
      "outputs": [
        {
          "output_type": "execute_result",
          "data": {
            "text/plain": [
              "62"
            ]
          },
          "metadata": {},
          "execution_count": 8
        }
      ]
    },
    {
      "cell_type": "code",
      "metadata": {
        "colab": {
          "base_uri": "https://localhost:8080/"
        },
        "id": "Ei3PMhujYGaN",
        "outputId": "4df7748f-6b81-4255-cdc4-b8a5d227ef9f"
      },
      "source": [
        "print(len(vocab))\n",
        "print(vocab.padding_token, ':', vocab[vocab.padding_token])\n",
        "print(vocab.bos_token, ': ', vocab[vocab.bos_token])\n",
        "print(vocab.eos_token, ': ', vocab[vocab.eos_token])\n",
        "print(vocab.unknown_token, ': ', vocab[vocab.unknown_token])\n"
      ],
      "execution_count": null,
      "outputs": [
        {
          "output_type": "stream",
          "name": "stdout",
          "text": [
            "50000\n",
            "<pad> : 3\n",
            "<s> :  0\n",
            "</s> :  1\n",
            "<unk> :  5\n"
          ]
        }
      ]
    },
    {
      "cell_type": "code",
      "metadata": {
        "colab": {
          "base_uri": "https://localhost:8080/"
        },
        "id": "_7leRAH6YKAn",
        "outputId": "386abbdc-8a3d-4e7f-f68e-1681e36b2d79"
      },
      "source": [
        "word2idx = {k:v for k, v in vocab.token_to_idx.items()}\n",
        "idx2word = {v:k for k, v in word2idx.items()}\n",
        "idx2word[5000]\n",
        "\n",
        "# 참고 : https://nlp.gluon.ai/api/modules/data.html\n",
        "tokenizer('나는 자연어처리를 공부하고 있다')\n",
        "\n",
        "print([idx2word[i] for i in x_test[0]])\n",
        "\n",
        "gpt_model = TFGPT2LMHeadModel.from_pretrained(MODEL_PATH)\n",
        "gpt_model.summary()\n",
        "\n",
        "# TFGPT2MainLayer는 fine-tuning을 하지 않는다.\n",
        "gpt_model.trainable = False\n",
        "gpt_model.summary() # gtp_model을 다시 확인한다. trainable params = 0\n"
      ],
      "execution_count": null,
      "outputs": [
        {
          "output_type": "stream",
          "name": "stdout",
          "text": [
            "['<s>', '▁양반', '김', '은', '▁한국', '▁수출', '품', '▁중', '▁상위', '▁세', '▁손가락', '▁안에', '▁드는', '▁틈새', '시장의', '▁숨은', '▁강', '자', '이에요', '.', '<pad>', '<pad>', '<pad>', '<pad>', '<pad>', '<pad>', '<pad>', '<pad>', '<pad>', '<pad>', '<pad>', '<pad>', '<pad>', '<pad>', '<pad>', '<pad>', '<pad>', '<pad>', '<pad>', '<pad>', '<pad>', '<pad>', '<pad>', '<pad>', '<pad>', '<pad>', '<pad>', '<pad>', '<pad>', '<pad>', '<pad>', '<pad>', '<pad>', '<pad>', '<pad>', '<pad>', '<pad>', '<pad>', '<pad>', '<pad>', '<pad>', '</s>']\n"
          ]
        },
        {
          "output_type": "stream",
          "name": "stderr",
          "text": [
            "All model checkpoint layers were used when initializing TFGPT2LMHeadModel.\n",
            "\n",
            "All the layers of TFGPT2LMHeadModel were initialized from the model checkpoint at /content/drive/MyDrive/Colab Notebooks/multicampus/Idiom Classifier/4.KoGPT2/gpt_ckpt.\n",
            "If your task is similar to the task the model of the checkpoint was trained on, you can already use TFGPT2LMHeadModel for predictions without further training.\n"
          ]
        },
        {
          "output_type": "stream",
          "name": "stdout",
          "text": [
            "Model: \"tfgp_t2lm_head_model_1\"\n",
            "_________________________________________________________________\n",
            "Layer (type)                 Output Shape              Param #   \n",
            "=================================================================\n",
            "transformer (TFGPT2MainLayer multiple                  124242432 \n",
            "=================================================================\n",
            "Total params: 124,242,432\n",
            "Trainable params: 124,242,432\n",
            "Non-trainable params: 0\n",
            "_________________________________________________________________\n",
            "Model: \"tfgp_t2lm_head_model_1\"\n",
            "_________________________________________________________________\n",
            "Layer (type)                 Output Shape              Param #   \n",
            "=================================================================\n",
            "transformer (TFGPT2MainLayer multiple                  124242432 \n",
            "=================================================================\n",
            "Total params: 124,242,432\n",
            "Trainable params: 0\n",
            "Non-trainable params: 124,242,432\n",
            "_________________________________________________________________\n"
          ]
        }
      ]
    },
    {
      "cell_type": "code",
      "metadata": {
        "colab": {
          "base_uri": "https://localhost:8080/"
        },
        "id": "jIea2bEFYNMl",
        "outputId": "0a16d610-faf9-40a5-8f7a-e0da46ef797c"
      },
      "source": [
        "\n",
        "# GPT2 입력\n",
        "# ---------\n",
        "x_input = Input(batch_shape = (None, MAX_LEN + 2), dtype = tf.int32)\n",
        "\n",
        "# GPT2 출력\n",
        "# ---------\n",
        "# output_gpt[0]        --> <KerasTensor: shape=(None, 60, 50000) dtype=float32\n",
        "# output_gpt[0][:, -1] --> <KerasTensor: shape=(None, 50000) dtype=float32\n",
        "output_gpt = gpt_model(x_input)[0][:, -1]\n"
      ],
      "execution_count": null,
      "outputs": [
        {
          "output_type": "stream",
          "name": "stdout",
          "text": [
            "WARNING:tensorflow:The parameters `output_attentions`, `output_hidden_states` and `use_cache` cannot be updated when calling a model.They have to be set to True/False in the config object (i.e.: `config=XConfig.from_pretrained('name', output_attentions=True)`).\n",
            "WARNING:tensorflow:The parameter `return_dict` cannot be set in graph mode and will always be set to `True`.\n"
          ]
        }
      ]
    },
    {
      "cell_type": "code",
      "metadata": {
        "colab": {
          "base_uri": "https://localhost:8080/"
        },
        "id": "lM000BD5YMYb",
        "outputId": "6617e6c0-23d0-43ea-d4c9-9c5592d4e1f6"
      },
      "source": [
        "\n",
        "# Downstream task : 네이버 영화 감성분석\n",
        "# -------------------------------------\n",
        "y_output = Dense(1, activation = 'sigmoid')(output_gpt)\n",
        "model = Model(x_input, y_output)\n",
        "model.compile(loss = 'binary_crossentropy', optimizer = Adam(learning_rate = 0.001))\n",
        "model.summary()\n",
        "\n",
        "hist = model.fit(x_train, y_train, validation_data = (x_test, y_test), epochs=3, batch_size=1024)\n",
        "\n",
        "# 1/1 [==============================] - 14s 14s/step - loss: 0.7251 - val_loss: 70.8553\n",
        "# Epoch 2/3\n",
        "# 1/1 [==============================] - 1s 1s/step - loss: 69.2513 - val_loss: 26.5999\n",
        "# Epoch 3/3\n",
        "# 1/1 [==============================] - 1s 1s/step - loss: 25.5047 - val_loss: 21.4767\n"
      ],
      "execution_count": null,
      "outputs": [
        {
          "output_type": "stream",
          "name": "stdout",
          "text": [
            "Model: \"model_1\"\n",
            "_________________________________________________________________\n",
            "Layer (type)                 Output Shape              Param #   \n",
            "=================================================================\n",
            "input_2 (InputLayer)         [(None, 62)]              0         \n",
            "_________________________________________________________________\n",
            "tfgp_t2lm_head_model_1 (TFGP TFCausalLMOutputWithPast( 124242432 \n",
            "_________________________________________________________________\n",
            "tf.__operators__.getitem_1 ( (None, 50000)             0         \n",
            "_________________________________________________________________\n",
            "dense_1 (Dense)              (None, 1)                 50001     \n",
            "=================================================================\n",
            "Total params: 124,292,433\n",
            "Trainable params: 50,001\n",
            "Non-trainable params: 124,242,432\n",
            "_________________________________________________________________\n",
            "Epoch 1/3\n",
            "WARNING:tensorflow:The parameters `output_attentions`, `output_hidden_states` and `use_cache` cannot be updated when calling a model.They have to be set to True/False in the config object (i.e.: `config=XConfig.from_pretrained('name', output_attentions=True)`).\n",
            "WARNING:tensorflow:The parameter `return_dict` cannot be set in graph mode and will always be set to `True`.\n",
            "WARNING:tensorflow:The parameters `output_attentions`, `output_hidden_states` and `use_cache` cannot be updated when calling a model.They have to be set to True/False in the config object (i.e.: `config=XConfig.from_pretrained('name', output_attentions=True)`).\n",
            "WARNING:tensorflow:The parameter `return_dict` cannot be set in graph mode and will always be set to `True`.\n",
            "1/1 [==============================] - ETA: 0s - loss: 1.2796WARNING:tensorflow:The parameters `output_attentions`, `output_hidden_states` and `use_cache` cannot be updated when calling a model.They have to be set to True/False in the config object (i.e.: `config=XConfig.from_pretrained('name', output_attentions=True)`).\n",
            "WARNING:tensorflow:The parameter `return_dict` cannot be set in graph mode and will always be set to `True`.\n",
            "1/1 [==============================] - 14s 14s/step - loss: 1.2796 - val_loss: 65.8896\n",
            "Epoch 2/3\n",
            "1/1 [==============================] - 1s 986ms/step - loss: 69.8595 - val_loss: 48.2604\n",
            "Epoch 3/3\n",
            "1/1 [==============================] - 1s 985ms/step - loss: 49.8553 - val_loss: 10.4465\n"
          ]
        }
      ]
    },
    {
      "cell_type": "code",
      "metadata": {
        "id": "Zd7ZwXBveWIq"
      },
      "source": [
        "from sklearn.metrics import accuracy_score, recall_score, precision_score, f1_score"
      ],
      "execution_count": null,
      "outputs": []
    },
    {
      "cell_type": "code",
      "metadata": {
        "colab": {
          "base_uri": "https://localhost:8080/",
          "height": 385
        },
        "id": "SkiwCmeZYIr9",
        "outputId": "f14da422-0b87-4311-ba95-d51ed098fe1e"
      },
      "source": [
        "\n",
        "# Loss history를 그린다\n",
        "plt.plot(hist.history['loss'], label='Train loss')\n",
        "plt.plot(hist.history['val_loss'], label = 'Test loss')\n",
        "plt.legend()\n",
        "plt.title(\"Loss history\")\n",
        "plt.xlabel(\"epoch\")\n",
        "plt.ylabel(\"loss\")\n",
        "plt.show()\n",
        "\n",
        "# 시험 데이터로 학습 성능을 평가한다\n",
        "pred = model.predict(x_test)\n",
        "y_pred = np.where(pred > 0.5, 1, 0)\n",
        "accuracy = (y_pred == y_test).mean()\n",
        "\n",
        "print(\"\\nAccuracy = %.2f %s\" % (accuracy * 100, '%'))\n",
        "\n",
        "# gpt_model.trainable = True로 바꾸고, learning-rate를 작게 적용해서\n",
        "# 전체를 다시 학습한다. (미세 조정)"
      ],
      "execution_count": null,
      "outputs": [
        {
          "output_type": "display_data",
          "data": {
            "image/png": "[encoded data removed]",
            "text/plain": [
              "<Figure size 432x288 with 1 Axes>"
            ]
          },
          "metadata": {
            "needs_background": "light"
          }
        },
        {
          "output_type": "stream",
          "name": "stdout",
          "text": [
            "WARNING:tensorflow:The parameters `output_attentions`, `output_hidden_states` and `use_cache` cannot be updated when calling a model.They have to be set to True/False in the config object (i.e.: `config=XConfig.from_pretrained('name', output_attentions=True)`).\n",
            "WARNING:tensorflow:The parameter `return_dict` cannot be set in graph mode and will always be set to `True`.\n",
            "\n",
            "Accuracy = 46.00 %\n"
          ]
        }
      ]
    },
    {
      "cell_type": "code",
      "metadata": {
        "colab": {
          "base_uri": "https://localhost:8080/"
        },
        "id": "A3zinEEKUbGb",
        "outputId": "79216411-b0d6-4ee2-d7b1-d998bb23ecb4"
      },
      "source": [
        "from sklearn.metrics import accuracy_score, recall_score, precision_score, f1_score, confusion_matrix\n",
        "# 오차행렬\n",
        "print(confusion_matrix(y_test, pred))\n",
        "\n",
        "# 정확도\n",
        "print(\"accuracy:\", accuracy_score(y_test, y_pred))\n",
        "\n",
        "# 정밀도\n",
        "print(\"precision:\", precision_score(y_test, y_pred))\n",
        "\n",
        "# 재현율\n",
        "print(\"recall:\", recall_score(y_test, y_pred))\n",
        "\n",
        "# f1-score\n",
        "print(\"F1-Score:\", f1_score(y_test, y_pred))"
      ],
      "execution_count": null,
      "outputs": [
        {
          "output_type": "stream",
          "name": "stdout",
          "text": [
            "[[ 0 54]\n",
            " [ 0 46]]\n",
            "accuracy: 0.46\n",
            "precision: 0.46\n",
            "recall: 1.0\n",
            "F1-Score: 0.6301369863013699\n"
          ]
        }
      ]
    },
    {
      "cell_type": "code",
      "metadata": {
        "id": "2OM5EJshfJ5Y"
      },
      "source": [
        "# max_length를 줄이고\n",
        "# "
      ],
      "execution_count": null,
      "outputs": []
    }
  ]
}